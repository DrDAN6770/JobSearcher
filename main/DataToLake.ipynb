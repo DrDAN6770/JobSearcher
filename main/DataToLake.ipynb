{
 "cells": [
  {
   "cell_type": "code",
   "execution_count": 1,
   "metadata": {},
   "outputs": [],
   "source": [
    "import pandas as pd\n",
    "import pymongo"
   ]
  },
  {
   "cell_type": "markdown",
   "metadata": {},
   "source": [
    "# 建立類別與方法"
   ]
  },
  {
   "cell_type": "code",
   "execution_count": 2,
   "metadata": {},
   "outputs": [],
   "source": [
    "class dataToLake():\n",
    "    NoSQL_DB = 'JobDB'\n",
    "    def __init__(self, collectionname = None):\n",
    "        if collectionname:\n",
    "            self.collectionname = collectionname\n",
    "    \n",
    "    def NoSQL_replace_data(self, *args):\n",
    "        client = pymongo.MongoClient(\"mongodb://localhost:27017/\")\n",
    "        db = client[self.NoSQL_DB]\n",
    "        collection = db[self.collectionname]\n",
    "        new_count, update_count = 0, 0\n",
    "        for df in args:\n",
    "            data = df.to_dict(orient=\"records\")\n",
    "            for idx, record in enumerate(data):\n",
    "                try:\n",
    "                    filter_query = {\"連結\": record[\"連結\"]}\n",
    "                    existing_record = collection.find_one(filter_query)\n",
    "                    # 已存在就更新;不存在就插入\n",
    "                    if existing_record is None:\n",
    "                        new_count += 1\n",
    "                        collection.insert_one(record)\n",
    "                    else:\n",
    "                        update_count += 1\n",
    "                        collection.replace_one(filter_query, record)\n",
    "                except Exception as e:\n",
    "                    print(f'{idx},{e}')\n",
    "                    continue\n",
    "        print(f'更新{update_count}筆, 新增{new_count}筆')"
   ]
  },
  {
   "cell_type": "markdown",
   "metadata": {},
   "source": [
    "# To DataLake(NoSQL)"
   ]
  },
  {
   "cell_type": "code",
   "execution_count": 2,
   "metadata": {},
   "outputs": [],
   "source": [
    "# Load csv (通常一次一個, 每次search完匯入SQL)\n",
    "file_name = 'JBLIST_2023-11-17.csv'\n",
    "df = pd.read_csv(f'../output/{file_name}')"
   ]
  },
  {
   "cell_type": "code",
   "execution_count": null,
   "metadata": {},
   "outputs": [],
   "source": [
    "if df.isnull().sum().sum() == 0:\n",
    "    Load = dataToLake('jobdata')\n",
    "    Load.NoSQL_replace_data(df)\n",
    "    print(\"Data to Lake Done!\")\n",
    "else:\n",
    "    number = df.isnull().sum().sum()\n",
    "    print(f\"NaN exist {number}\")\n",
    "    if number >= 10:\n",
    "        print(\"manual handle\")\n",
    "        df[df.isnull().any(axis=1)]\n",
    "    else:\n",
    "        df = df.dropna()\n",
    "        print(\"Do it again\")"
   ]
  }
 ],
 "metadata": {
  "kernelspec": {
   "display_name": "Web_Crawler",
   "language": "python",
   "name": "python3"
  },
  "language_info": {
   "codemirror_mode": {
    "name": "ipython",
    "version": 3
   },
   "file_extension": ".py",
   "mimetype": "text/x-python",
   "name": "python",
   "nbconvert_exporter": "python",
   "pygments_lexer": "ipython3",
   "version": "3.11.2"
  },
  "orig_nbformat": 4
 },
 "nbformat": 4,
 "nbformat_minor": 2
}
