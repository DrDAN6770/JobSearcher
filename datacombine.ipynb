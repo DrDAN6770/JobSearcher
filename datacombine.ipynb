{
 "cells": [
  {
   "cell_type": "code",
   "execution_count": 1,
   "metadata": {},
   "outputs": [],
   "source": [
    "import pandas as pd\n",
    "import sqlite3"
   ]
  },
  {
   "cell_type": "code",
   "execution_count": 9,
   "metadata": {},
   "outputs": [],
   "source": [
    "class dataToSQL():\n",
    "    DBname = 'Jobsearch_database'\n",
    "    columns_num = 23\n",
    "    columns_name = '更新日期,職缺名稱,公司名稱,工作內容,職務類別,\\\n",
    "                    工作待遇,工作性質,上班地點,管理責任,出差外派,\\\n",
    "                    上班時段,休假制度,可上班日,需求人數,工作經歷,\\\n",
    "                    學歷要求,科系要求,語文條件,擅長工具,工作技能,\\\n",
    "                    其他要求,連結,縣市'\n",
    "    def __init__(self, tablename = 'jb'):\n",
    "        self.tablename = tablename\n",
    "        self.create_schema()\n",
    "    def create_schema(self):\n",
    "        conn = sqlite3.connect(\"Jobsearch_database.db\")\n",
    "        create_table_query = f'''\n",
    "        CREATE TABLE IF NOT EXISTS {self.tablename}  (\n",
    "            '更新日期' Date,\n",
    "            '職缺名稱' VARCHAR(50),\n",
    "            '公司名稱' VARCHAR(50),\n",
    "            '工作內容' TEXT,\n",
    "            '職務類別' VARCHAR(50),\n",
    "            '工作待遇' VARCHAR(50),\n",
    "            '工作性質' VARCHAR(10),\n",
    "            '上班地點' VARCHAR(50),\n",
    "            '管理責任' VARCHAR(50),\n",
    "            '出差外派' VARCHAR(50),\n",
    "            '上班時段' VARCHAR(50),\n",
    "            '休假制度' VARCHAR(50),\n",
    "            '可上班日' VARCHAR(50),\n",
    "            '需求人數' VARCHAR(50),\n",
    "            '工作經歷' VARCHAR(50),\n",
    "            '學歷要求' VARCHAR(50),\n",
    "            '科系要求' VARCHAR(50),\n",
    "            '語文條件' VARCHAR(50),\n",
    "            '擅長工具' VARCHAR(50),\n",
    "            '工作技能' VARCHAR(50),\n",
    "            '其他要求' VARCHAR(50),\n",
    "            '連結' TEXT PRIMARY KEY,\n",
    "            '縣市' VARCHAR(10)\n",
    "        )\n",
    "        '''\n",
    "        conn.execute(create_table_query)\n",
    "        conn.commit()\n",
    "        conn.close()\n",
    "    def replace_data(self, *args):\n",
    "        placeholders = ','.join(['?'] * self.columns_num)\n",
    "        conn = sqlite3.connect(\"Jobsearch_database.db\")\n",
    "        for df in args:\n",
    "            replace_query = f\"REPLACE INTO {self.tablename} ({self.columns_name}) VALUES ({placeholders})\"\n",
    "            cursor = conn.cursor()\n",
    "            cursor.executemany(replace_query, df.values.tolist())\n",
    "        conn.commit()\n",
    "        conn.close()"
   ]
  },
  {
   "cell_type": "markdown",
   "metadata": {},
   "source": [
    "# To SQL"
   ]
  },
  {
   "cell_type": "code",
   "execution_count": 3,
   "metadata": {},
   "outputs": [],
   "source": [
    "# Load csv (通常一次一個, 每次search完匯入SQL)\n",
    "file_name = 'JBLIST_2023-08-06.csv'\n",
    "df = pd.read_csv(file_name, sep = '|')"
   ]
  },
  {
   "cell_type": "code",
   "execution_count": 10,
   "metadata": {},
   "outputs": [],
   "source": [
    "test = dataToSQL('DE_jb')\n",
    "test.replace_data(df)"
   ]
  }
 ],
 "metadata": {
  "kernelspec": {
   "display_name": "Web_Crawler",
   "language": "python",
   "name": "python3"
  },
  "language_info": {
   "codemirror_mode": {
    "name": "ipython",
    "version": 3
   },
   "file_extension": ".py",
   "mimetype": "text/x-python",
   "name": "python",
   "nbconvert_exporter": "python",
   "pygments_lexer": "ipython3",
   "version": "3.11.2"
  },
  "orig_nbformat": 4
 },
 "nbformat": 4,
 "nbformat_minor": 2
}
